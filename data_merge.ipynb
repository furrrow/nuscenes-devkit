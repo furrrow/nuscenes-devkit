{
 "cells": [
  {
   "cell_type": "code",
   "id": "initial_id",
   "metadata": {
    "collapsed": true,
    "ExecuteTime": {
     "end_time": "2025-01-29T17:36:51.169454Z",
     "start_time": "2025-01-29T17:36:51.163359Z"
    }
   },
   "source": [
    "from nuscenes.nuscenes import NuScenes\n",
    "from nuscenes.can_bus.can_bus_api import NuScenesCanBus\n",
    "import numpy as np\n",
    "import matplotlib.pyplot as plt"
   ],
   "outputs": [],
   "execution_count": 72
  },
  {
   "metadata": {
    "ExecuteTime": {
     "end_time": "2025-01-29T17:36:52.025224Z",
     "start_time": "2025-01-29T17:36:51.608503Z"
    }
   },
   "cell_type": "code",
   "source": [
    "VERSION = 'v1.0-mini'\n",
    "DATA_DIR = '/media/jim/Hard Disk/nuscenes_data/sets/nuscenes'\n",
    "sensor = 'CAM_FRONT'\n",
    "render = True\n",
    "nusc = NuScenes(version=VERSION, dataroot=DATA_DIR, verbose=True)\n",
    "nusc_can = NuScenesCanBus(dataroot=DATA_DIR)"
   ],
   "id": "c3bf112b83584fd4",
   "outputs": [
    {
     "name": "stdout",
     "output_type": "stream",
     "text": [
      "======\n",
      "Loading NuScenes tables for version v1.0-mini...\n",
      "23 category,\n",
      "8 attribute,\n",
      "4 visibility,\n",
      "911 instance,\n",
      "12 sensor,\n",
      "120 calibrated_sensor,\n",
      "31206 ego_pose,\n",
      "8 log,\n",
      "10 scene,\n",
      "404 sample,\n",
      "31206 sample_data,\n",
      "18538 sample_annotation,\n",
      "4 map,\n",
      "Done loading in 0.330 seconds.\n",
      "======\n",
      "Reverse indexing ...\n",
      "Done reverse indexing in 0.1 seconds.\n",
      "======\n"
     ]
    }
   ],
   "execution_count": 73
  },
  {
   "metadata": {
    "ExecuteTime": {
     "end_time": "2025-01-29T17:36:52.612516Z",
     "start_time": "2025-01-29T17:36:52.607553Z"
    }
   },
   "cell_type": "code",
   "source": [
    "scene = nusc.scene[0]\n",
    "scene_name = scene['name']\n",
    "print(f\"processing {scene_name}, \")\n",
    "print(f\"{scene['description']}\")"
   ],
   "id": "17c7ffce7d7f3671",
   "outputs": [
    {
     "name": "stdout",
     "output_type": "stream",
     "text": [
      "processing scene-0061, \n",
      "Parked truck, construction, intersection, turn left, following a van\n"
     ]
    }
   ],
   "execution_count": 74
  },
  {
   "metadata": {
    "ExecuteTime": {
     "end_time": "2025-01-29T17:42:57.016368Z",
     "start_time": "2025-01-29T17:42:56.983800Z"
    }
   },
   "cell_type": "code",
   "source": [
    "sample_tokens_list = []\n",
    "timestamps = []\n",
    "files_list = []\n",
    "current_sample = nusc.get('sample', scene['first_sample_token'])\n",
    "cam_front_data = nusc.get('sample_data', current_sample['data'][sensor])\n",
    "calib_sensor = nusc.get('calibrated_sensor', cam_front_data['calibrated_sensor_token'])\n",
    "camera_intrinsic = calib_sensor['camera_intrinsic']\n",
    "while not current_sample['next'] == \"\":\n",
    "    # print(f\"current sample token: {current_sample['token']}\")\n",
    "    sample_tokens_list.append(current_sample['token'])\n",
    "    cam_front_data = nusc.get('sample_data', current_sample['data'][sensor])\n",
    "    assert(cam_front_data['calibrated_sensor_token'] == calib_sensor['token'])\n",
    "    ego_pose = nusc.get('ego_pose', cam_front_data['ego_pose_token'])\n",
    "    filename = cam_front_data['filename']\n",
    "    timestamp = int(ego_pose['timestamp'])\n",
    "    timestamps.append(timestamp)\n",
    "    files_list.append(filename)\n",
    "    # ego_R = ego_pose['rotation']\n",
    "    # ego_T = ego_pose['translation']\n",
    "    current_sample = nusc.get('sample', current_sample['next'])\n",
    "timestamps = np.array(timestamps)\n",
    "files_list = np.array(files_list)\n",
    "camera_files = np.stack((timestamps, files_list)).T\n",
    "\n",
    "# get imu and velocities\n",
    "ms_imu = nusc_can.get_messages(scene_name, 'ms_imu') # 100hz\n",
    "ms_imu_a_r = np.array([(m['utime'], m['linear_accel'][0], m['linear_accel'][1], m['linear_accel'][2],\n",
    "                        m['rotation_rate'][0], m['rotation_rate'][1], m['rotation_rate'][2])\n",
    "                       for m in ms_imu])\n",
    "# steer angle!\n",
    "angle = nusc_can.get_messages(scene_name, 'steeranglefeedback')\n",
    "angle = np.array([(m['utime'], m['value']) for m in angle])\n",
    "\n",
    "# Zoe Vehicle Info, 100hz\n",
    "zoe_veh = nusc_can.get_messages(scene_name, 'zoe_veh_info')\n",
    "wheel_speed = np.array([(m['utime'], m['FL_wheel_speed']) for m in zoe_veh])\n",
    "# Convert to m/s.\n",
    "radius = 0.305  # Known Zoe wheel radius in meters.\n",
    "circumference = 2 * np.pi * radius\n",
    "wheel_speed[:, 1] *= circumference / 60\n"
   ],
   "id": "50a33878ea002f6",
   "outputs": [],
   "execution_count": 93
  },
  {
   "metadata": {
    "ExecuteTime": {
     "end_time": "2025-01-29T17:43:29.334278Z",
     "start_time": "2025-01-29T17:43:29.328252Z"
    }
   },
   "cell_type": "code",
   "source": [
    "# look at the times for the tokens in the current_sample\n",
    "\n",
    "def analyze_series(timed_array):\n",
    "    last_time = int(timed_array[-1])\n",
    "    first_time = int(timed_array[0])\n",
    "    print(\"duration of scene:\")\n",
    "    print((last_time - first_time) / (1e6))\n",
    "    print(\"number of entries:\")\n",
    "    print(len(timed_array))\n",
    "    print(\"averaged time diff in miliseconds:\")\n",
    "    print((last_time - first_time) / len(timed_array))\n",
    "    print(\"total frequency:\")  #  -> close enough to 100 hz!!\n",
    "    print(len(timed_array) / (last_time - first_time) * (1e6))\n",
    "\n",
    "print(\">>  camera files ===\")\n",
    "print(analyze_series(camera_files[:, 0]))"
   ],
   "id": "a3da925a66acd0d3",
   "outputs": [
    {
     "name": "stdout",
     "output_type": "stream",
     "text": [
      ">>  camera files ===\n",
      "duration of scene:\n",
      "18.65\n",
      "number of entries:\n",
      "38\n",
      "averaged time diff in miliseconds:\n",
      "490789.4736842105\n",
      "total frequency:\n",
      "2.037533512064343\n",
      "None\n"
     ]
    }
   ],
   "execution_count": 98
  },
  {
   "metadata": {
    "ExecuteTime": {
     "end_time": "2025-01-29T17:43:42.437182Z",
     "start_time": "2025-01-29T17:43:42.431857Z"
    }
   },
   "cell_type": "code",
   "source": [
    "# looking at the imu measurement times\n",
    "# time duration, originally in microseconds -> seconds\n",
    "print(\">>  IMU scene stats ===\")\n",
    "print(analyze_series(ms_imu_a_r[:, 0]))\n",
    "# looking at the steer angles\n",
    "print(\">>  steer angle stats ===\")\n",
    "print(analyze_series(angle[:, 0]))\n",
    "# looking at the speed from wheel\n",
    "print(\">>  wheel speed stats ===\")\n",
    "print(analyze_series(wheel_speed[:, 0]))"
   ],
   "id": "13c383eab94316f0",
   "outputs": [
    {
     "name": "stdout",
     "output_type": "stream",
     "text": [
      ">>  IMU scene stats ===\n",
      "duration of scene:\n",
      "19.149252\n",
      "number of entries:\n",
      "1899\n",
      "averaged time diff in miliseconds:\n",
      "10083.860979462876\n",
      "total frequency:\n",
      "99.1683643831101\n",
      "None\n",
      ">>  steer angle stats ===\n",
      "duration of scene:\n",
      "19.144668\n",
      "number of entries:\n",
      "1797\n",
      "averaged time diff in miliseconds:\n",
      "10653.682804674458\n",
      "total frequency:\n",
      "93.8642550500223\n",
      "None\n",
      ">>  wheel speed stats ===\n",
      "duration of scene:\n",
      "19.148904\n",
      "number of entries:\n",
      "1904\n",
      "averaged time diff in miliseconds:\n",
      "10057.197478991597\n",
      "total frequency:\n",
      "99.4312781556584\n",
      "None\n"
     ]
    }
   ],
   "execution_count": 99
  },
  {
   "metadata": {
    "ExecuteTime": {
     "end_time": "2025-01-29T17:43:48.932504Z",
     "start_time": "2025-01-29T17:43:48.924145Z"
    }
   },
   "cell_type": "code",
   "source": [
    "def closest_timestep_interpolate(reference_array, interpolate_array):\n",
    "    match_array = []\n",
    "    interp_idx = 0\n",
    "    for ref_idx, entry in enumerate(reference_array):\n",
    "        i_timestamp, i_value = entry\n",
    "        i_timestamp = int(i_timestamp)\n",
    "        if i_timestamp < interpolate_array[interp_idx][0]:\n",
    "            print(f\"skipping timestep {i_timestamp}\")\n",
    "            reference_array = reference_array[ref_idx+1:]\n",
    "            continue\n",
    "        time_diff = np.abs(interpolate_array[:, 0] - i_timestamp)\n",
    "        closest_match = np.argmin(time_diff)\n",
    "        match_array.append(interpolate_array[closest_match])\n",
    "        # print(f\"found match ref {ref_idx} interp {closest_match}\")\n",
    "    return reference_array, np.array(match_array)\n",
    "\n",
    "# lining up doesn't work. the difference in times drifts. closest_neighbor interpolate\n",
    "updated_files, updated_speed = closest_timestep_interpolate(reference_array=camera_files, interpolate_array=wheel_speed)\n",
    "updated_files, updated_imu = closest_timestep_interpolate(reference_array=updated_files, interpolate_array=ms_imu_a_r)\n",
    "updated_files, updated_angle = closest_timestep_interpolate(reference_array=updated_files, interpolate_array=angle)"
   ],
   "id": "8aa2da81900612d5",
   "outputs": [
    {
     "name": "stdout",
     "output_type": "stream",
     "text": [
      "skipping timestep 1532402927612460\n"
     ]
    }
   ],
   "execution_count": 100
  },
  {
   "metadata": {
    "ExecuteTime": {
     "end_time": "2025-01-29T17:43:51.865496Z",
     "start_time": "2025-01-29T17:43:51.858858Z"
    }
   },
   "cell_type": "code",
   "source": "len(updated_files), len(updated_angle), len(updated_speed), len(updated_imu)",
   "id": "170d146e00a9f53b",
   "outputs": [
    {
     "data": {
      "text/plain": [
       "(37, 37, 37, 37)"
      ]
     },
     "execution_count": 101,
     "metadata": {},
     "output_type": "execute_result"
    }
   ],
   "execution_count": 101
  },
  {
   "metadata": {
    "ExecuteTime": {
     "end_time": "2025-01-29T17:47:22.501133Z",
     "start_time": "2025-01-29T17:47:22.496970Z"
    }
   },
   "cell_type": "code",
   "source": [
    "stitched_output = np.hstack((updated_files, updated_angle[:, 1:], updated_speed[:, 1:], updated_imu[:, 1:]))\n",
    "stitched_output.shape"
   ],
   "id": "7be0a593b5b90119",
   "outputs": [
    {
     "data": {
      "text/plain": [
       "(37, 10)"
      ]
     },
     "execution_count": 115,
     "metadata": {},
     "output_type": "execute_result"
    }
   ],
   "execution_count": 115
  },
  {
   "metadata": {
    "ExecuteTime": {
     "end_time": "2025-01-29T17:47:25.467338Z",
     "start_time": "2025-01-29T17:47:25.461981Z"
    }
   },
   "cell_type": "code",
   "source": "stitched_output",
   "id": "2f586a80a1107062",
   "outputs": [
    {
     "data": {
      "text/plain": [
       "array([['1532402928112460',\n",
       "        'samples/CAM_FRONT/n015-2018-07-24-11-22-45+0800__CAM_FRONT__1532402928112460.jpg',\n",
       "        '0.05235987755982989', '8.791728034435481',\n",
       "        '-0.6653889417648315', '-0.6056896448135376',\n",
       "        '9.712173461914062', '0.018220271915197372',\n",
       "        '0.017773376777768135', '0.015888486057519913'],\n",
       "       ['1532402928662460',\n",
       "        'samples/CAM_FRONT/n015-2018-07-24-11-22-45+0800__CAM_FRONT__1532402928662460.jpg',\n",
       "        '0.061086523819801536', '8.581291277968159',\n",
       "        '-0.6841903924942017', '-0.40256914496421814',\n",
       "        '10.334538459777832', '0.011411811225116253',\n",
       "        '-0.05556841939687729', '0.009379098191857338'],\n",
       "       ['1532402929162460',\n",
       "        'samples/CAM_FRONT/n015-2018-07-24-11-22-45+0800__CAM_FRONT__1532402929162460.jpg',\n",
       "        '0.06283185307179427', '8.185723450937807',\n",
       "        '-1.1970546245574951', '0.015408070757985115',\n",
       "        '9.791049003601074', '-0.014990320429205894',\n",
       "        '0.018028978258371353', '0.008693818934261799'],\n",
       "       ['1532402929662460',\n",
       "        'samples/CAM_FRONT/n015-2018-07-24-11-22-45+0800__CAM_FRONT__1532402929662460.jpg',\n",
       "        '0.06283185307179427', '7.827448213661161',\n",
       "        '-0.7599800229072571', '-0.2412639856338501',\n",
       "        '9.779520034790039', '0.011544531211256981',\n",
       "        '-0.004131408873945475', '0.011069216765463352'],\n",
       "       ['1532402930112460',\n",
       "        'samples/CAM_FRONT/n015-2018-07-24-11-22-45+0800__CAM_FRONT__1532402930112460.jpg',\n",
       "        '0.06283185307179427', '7.56640008538524', '-0.5493360161781311',\n",
       "        '-0.4174453318119049', '9.789261817932129',\n",
       "        '-0.022091027349233627', '-0.004738310817629099',\n",
       "        '0.016322681680321693'],\n",
       "       ['1532402930612460',\n",
       "        'samples/CAM_FRONT/n015-2018-07-24-11-22-45+0800__CAM_FRONT__1532402930612460.jpg',\n",
       "        '0.06283185307179427', '7.381269014822215',\n",
       "        '-0.46960100531578064', '-0.11670758575201035',\n",
       "        '9.823221206665039', '-0.02137383632361889',\n",
       "        '-0.003572304267436266', '0.012555621564388275'],\n",
       "       ['1532402931162460',\n",
       "        'samples/CAM_FRONT/n015-2018-07-24-11-22-45+0800__CAM_FRONT__1532402931162460.jpg',\n",
       "        '0.07155849933176592', '7.0669457583267175',\n",
       "        '-0.7974423170089722', '-0.4044128954410553',\n",
       "        '9.598995208740234', '0.007604735903441906',\n",
       "        '-0.004978617187589407', '0.012321444228291512'],\n",
       "       ['1532402931662460',\n",
       "        'samples/CAM_FRONT/n015-2018-07-24-11-22-45+0800__CAM_FRONT__1532402931662460.jpg',\n",
       "        '0.08203047484373031', '6.86583214929782', '-0.2428937405347824',\n",
       "        '0.11966998875141144', '10.495661735534668',\n",
       "        '0.008783022873103619', '-0.038149431347846985',\n",
       "        '0.0092760706320405'],\n",
       "       ['1532402932162460',\n",
       "        'samples/CAM_FRONT/n015-2018-07-24-11-22-45+0800__CAM_FRONT__1532402932162460.jpg',\n",
       "        '0.11344640137963143', '6.582142091528579',\n",
       "        '-0.6558457612991333', '0.053837090730667114', '10.04541015625',\n",
       "        '0.005141150206327438', '-0.005756972823292017',\n",
       "        '0.01275559514760971'],\n",
       "       ['1532402932612460',\n",
       "        'samples/CAM_FRONT/n015-2018-07-24-11-22-45+0800__CAM_FRONT__1532402932612460.jpg',\n",
       "        '0.21642082724729844', '6.350395283773425',\n",
       "        '-0.7229523658752441', '0.05311807245016098', '9.89525032043457',\n",
       "        '0.028344634920358658', '0.0009378516115248203',\n",
       "        '0.03133183717727661'],\n",
       "       ['1532402933112460',\n",
       "        'samples/CAM_FRONT/n015-2018-07-24-11-22-45+0800__CAM_FRONT__1532402933112460.jpg',\n",
       "        '0.41015237421866746', '6.111989084990823',\n",
       "        '-0.4327612817287445', '0.3202591836452484', '9.647618293762207',\n",
       "        '-0.02147252857685089', '0.005012440495193005',\n",
       "        '0.05462762713432312'],\n",
       "       ['1532402933612460',\n",
       "        'samples/CAM_FRONT/n015-2018-07-24-11-22-45+0800__CAM_FRONT__1532402933612460.jpg',\n",
       "        '0.5969026041820575', '5.842949687481966', '-0.7845286130905151',\n",
       "        '0.1610630452632904', '9.761411666870117',\n",
       "        '-0.014521698467433453', '-0.026376109570264816',\n",
       "        '0.08389154821634293'],\n",
       "       ['1532402934112460',\n",
       "        'samples/CAM_FRONT/n015-2018-07-24-11-22-45+0800__CAM_FRONT__1532402934112460.jpg',\n",
       "        '0.7871434926494411', '5.573910289973108', '-1.013345718383789',\n",
       "        '-0.013888755813241005', '8.915777206420898',\n",
       "        '-0.01942025125026703', '0.001478537218645215',\n",
       "        '0.09400400519371033'],\n",
       "       ['1532402934662484',\n",
       "        'samples/CAM_FRONT/n015-2018-07-24-11-22-45+0800__CAM_FRONT__1532402934662484.jpg',\n",
       "        '1.2775810124598461', '5.223626321929398', '-0.8325446248054504',\n",
       "        '0.31453466415405273', '9.746835708618164',\n",
       "        '-0.020588111132383347', '0.015295815654098988',\n",
       "        '0.15460187196731567'],\n",
       "       ['1532402935162463',\n",
       "        'samples/CAM_FRONT/n015-2018-07-24-11-22-45+0800__CAM_FRONT__1532402935162463.jpg',\n",
       "        '1.5393804002589955', '4.9998707834071805',\n",
       "        '-0.5979912281036377', '0.5709183812141418',\n",
       "        '10.163213729858398', '0.012608146294951439',\n",
       "        '0.005420478992164135', '0.18284745514392853'],\n",
       "       ['1532402935662460',\n",
       "        'samples/CAM_FRONT/n015-2018-07-24-11-22-45+0800__CAM_FRONT__1532402935662460.jpg',\n",
       "        '1.5952309363228188', '4.64958681536347', '-0.26775506138801575',\n",
       "        '0.8342974781990051', '9.927186965942383', '0.02551645040512085',\n",
       "        '-0.00915624015033245', '0.19293718039989471'],\n",
       "       ['1532402936162460',\n",
       "        'samples/CAM_FRONT/n015-2018-07-24-11-22-45+0800__CAM_FRONT__1532402936162460.jpg',\n",
       "        '1.7278759594743862', '4.447141328129082',\n",
       "        '-0.20797595381736755', '1.0984299182891846',\n",
       "        '9.363189697265625', '-0.016159052029252052',\n",
       "        '-0.018669286742806435', '0.192734032869339'],\n",
       "       ['1532402936662460',\n",
       "        'samples/CAM_FRONT/n015-2018-07-24-11-22-45+0800__CAM_FRONT__1532402936662460.jpg',\n",
       "        '1.7854718247902024', '4.2460277191001845', '-0.403116375207901',\n",
       "        '0.8323402404785156', '9.082498550415039', '-0.0282411128282547',\n",
       "        '-0.01718176156282425', '0.18309244513511658'],\n",
       "       ['1532402937162460',\n",
       "        'samples/CAM_FRONT/n015-2018-07-24-11-22-45+0800__CAM_FRONT__1532402937162460.jpg',\n",
       "        '1.9669860669976063', '4.223385789606865',\n",
       "        '0.011273480951786041', '0.6478760838508606',\n",
       "        '9.487390518188477', '-0.02495741844177246',\n",
       "        '0.0017237294232472777', '0.2112162560224533'],\n",
       "       ['1532402937662460',\n",
       "        'samples/CAM_FRONT/n015-2018-07-24-11-22-45+0800__CAM_FRONT__1532402937662460.jpg',\n",
       "        '2.0420352248333655', '4.299302847319759',\n",
       "        '-0.18711863458156586', '0.6912994980812073',\n",
       "        '9.776601791381836', '-0.012231161817908287',\n",
       "        '-0.006756950169801712', '0.2231777459383011'],\n",
       "       ['1532402938162460',\n",
       "        'samples/CAM_FRONT/n015-2018-07-24-11-22-45+0800__CAM_FRONT__1532402938162460.jpg',\n",
       "        '2.0437805540853584', '4.239368328072737',\n",
       "        '-0.16389167308807373', '0.49046945571899414',\n",
       "        '9.91383171081543', '0.006436668336391449',\n",
       "        '0.033484410494565964', '0.22357897460460663'],\n",
       "       ['1532402938612460',\n",
       "        'samples/CAM_FRONT/n015-2018-07-24-11-22-45+0800__CAM_FRONT__1532402938612460.jpg',\n",
       "        '2.0053833105414864', '4.134149949839075', '-0.4042068421840668',\n",
       "        '0.6044224500656128', '9.814068794250488',\n",
       "        '-0.013823425397276878', '0.0007997156353667378',\n",
       "        '0.20568108558654785'],\n",
       "       ['1532402939112460',\n",
       "        'samples/CAM_FRONT/n015-2018-07-24-11-22-45+0800__CAM_FRONT__1532402939112460.jpg',\n",
       "        '1.8448130193580032', '3.9703289305638796',\n",
       "        '-0.4745960831642151', '0.18479153513908386',\n",
       "        '9.833086967468262', '-0.0035214207600802183',\n",
       "        '0.0073164841160178185', '0.19026094675064087'],\n",
       "       ['1532402939662460',\n",
       "        'samples/CAM_FRONT/n015-2018-07-24-11-22-45+0800__CAM_FRONT__1532402939662460.jpg',\n",
       "        '1.7697638615222517', '3.7319227317812786',\n",
       "        '-0.8833328485488892', '0.18563127517700195', '9.7362699508667',\n",
       "        '0.0030063458252698183', '0.013784827664494514',\n",
       "        '0.16893291473388672'],\n",
       "       ['1532402940162460',\n",
       "        'samples/CAM_FRONT/n015-2018-07-24-11-22-45+0800__CAM_FRONT__1532402940162460.jpg',\n",
       "        '1.445132620651308', '3.358996834244248', '-0.9567092657089233',\n",
       "        '-0.324249267578125', '9.57413101196289', '0.021747061982750893',\n",
       "        '3.5930239391746e-05', '0.1238008365035057'],\n",
       "       ['1532402940762460',\n",
       "        'samples/CAM_FRONT/n015-2018-07-24-11-22-45+0800__CAM_FRONT__1532402940762460.jpg',\n",
       "        '1.2531464029319317', '3.0300229174883686',\n",
       "        '-0.5507557988166809', '-0.2333277463912964',\n",
       "        '9.780708312988281', '-0.02458115853369236',\n",
       "        '-0.008792487904429436', '0.09104953706264496'],\n",
       "       ['1532402941262460',\n",
       "        'samples/CAM_FRONT/n015-2018-07-24-11-22-45+0800__CAM_FRONT__1532402941262460.jpg',\n",
       "        '1.1833332328521586', '2.835568699486917', '-0.5646297335624695',\n",
       "        '-0.4253455698490143', '9.816747665405273',\n",
       "        '0.004951467737555504', '-0.014238029718399048',\n",
       "        '0.08965402841567993'],\n",
       "       ['1532402941762460',\n",
       "        'samples/CAM_FRONT/n015-2018-07-24-11-22-45+0800__CAM_FRONT__1532402941762460.jpg',\n",
       "        '0.7906341511534345', '2.649105750718402', '-0.4456354081630707',\n",
       "        '-0.5455521941184998', '9.447247505187988',\n",
       "        '0.012453336268663406', '-0.02743261121213436',\n",
       "        '0.059325724840164185'],\n",
       "       ['1532402942162460',\n",
       "        'samples/CAM_FRONT/n015-2018-07-24-11-22-45+0800__CAM_FRONT__1532402942162460.jpg',\n",
       "        '0.342084533390887', '2.5145860519639736',\n",
       "        '-0.39190998673439026', '-0.40911421179771423',\n",
       "        '9.473274230957031', '-0.014128649607300758',\n",
       "        '-0.0018028330523520708', '0.02734054997563362'],\n",
       "       ['1532402942662460',\n",
       "        'samples/CAM_FRONT/n015-2018-07-24-11-22-45+0800__CAM_FRONT__1532402942662460.jpg',\n",
       "        '0.1361356816555609', '2.3734069621820977',\n",
       "        '-0.19961725175380707', '-0.32034069299697876',\n",
       "        '9.845457077026367', '-0.02523976005613804',\n",
       "        '0.035212185233831406', '0.013212558813393116'],\n",
       "       ['1532402943162460',\n",
       "        'samples/CAM_FRONT/n015-2018-07-24-11-22-45+0800__CAM_FRONT__1532402943162460.jpg',\n",
       "        '0.041887902047865494', '2.344105641661331',\n",
       "        '-0.27631422877311707', '-0.18965771794319153',\n",
       "        '9.701434135437012', '0.006479086820036173',\n",
       "        '0.013861509971320629', '0.00505458191037178'],\n",
       "       ['1532402943662460',\n",
       "        'samples/CAM_FRONT/n015-2018-07-24-11-22-45+0800__CAM_FRONT__1532402943662460.jpg',\n",
       "        '0.03490658503988659', '2.2988217826746915',\n",
       "        '-0.23275431990623474', '0.045146841555833817',\n",
       "        '8.998404502868652', '-0.011942261829972267',\n",
       "        '-0.011245571076869965', '-0.02169116958975792'],\n",
       "       ['1532402944162460',\n",
       "        'samples/CAM_FRONT/n015-2018-07-24-11-22-45+0800__CAM_FRONT__1532402944162460.jpg',\n",
       "        '0.12217304763960307', '2.269520462153925',\n",
       "        '-0.13868564367294312', '-0.5489240884780884',\n",
       "        '9.446643829345703', '0.010366776958107948',\n",
       "        '0.02285076305270195', '0.011850288137793541'],\n",
       "       ['1532402944662460',\n",
       "        'samples/CAM_FRONT/n015-2018-07-24-11-22-45+0800__CAM_FRONT__1532402944662460.jpg',\n",
       "        '0.5794493116621142', '2.276179853181372',\n",
       "        '-0.16362431645393372', '-0.3616560101509094',\n",
       "        '9.736175537109375', '0.012542694807052612',\n",
       "        '0.0024774058256298304', '0.03055931068956852'],\n",
       "       ['1532402945162460',\n",
       "        'samples/CAM_FRONT/n015-2018-07-24-11-22-45+0800__CAM_FRONT__1532402945162460.jpg',\n",
       "        '1.4625859131712513', '2.2535379236880524',\n",
       "        '-0.2742603123188019', '-0.3127559721469879',\n",
       "        '9.424631118774414', '-0.010590942576527596',\n",
       "        '-0.015816932544112206', '0.07336119562387466'],\n",
       "       ['1532402945662460',\n",
       "        'samples/CAM_FRONT/n015-2018-07-24-11-22-45+0800__CAM_FRONT__1532402945662460.jpg',\n",
       "        '1.8500490071139892', '2.269520462153925',\n",
       "        '-0.14733335375785828', '-0.4260712265968323',\n",
       "        '9.504673957824707', '-0.00908801518380642',\n",
       "        '-0.004041274078190327', '0.1078466922044754'],\n",
       "       ['1532402946262460',\n",
       "        'samples/CAM_FRONT/n015-2018-07-24-11-22-45+0800__CAM_FRONT__1532402946262460.jpg',\n",
       "        '2.2828906616085862', '2.133668885194007', '-0.5708335638046265',\n",
       "        '-0.46973031759262085', '9.508135795593262',\n",
       "        '0.019848275929689407', '0.014153055846691132',\n",
       "        '0.13401415944099426']], dtype='<U80')"
      ]
     },
     "execution_count": 116,
     "metadata": {},
     "output_type": "execute_result"
    }
   ],
   "execution_count": 116
  },
  {
   "metadata": {
    "ExecuteTime": {
     "end_time": "2025-01-29T17:49:01.586426Z",
     "start_time": "2025-01-29T17:49:01.582754Z"
    }
   },
   "cell_type": "code",
   "source": "stitched_output[0][1]",
   "id": "78c36efbdeb272ee",
   "outputs": [
    {
     "data": {
      "text/plain": [
       "'samples/CAM_FRONT/n015-2018-07-24-11-22-45+0800__CAM_FRONT__1532402928112460.jpg'"
      ]
     },
     "execution_count": 117,
     "metadata": {},
     "output_type": "execute_result"
    }
   ],
   "execution_count": 117
  },
  {
   "metadata": {
    "ExecuteTime": {
     "end_time": "2025-01-29T18:18:09.741354Z",
     "start_time": "2025-01-29T18:18:09.734027Z"
    }
   },
   "cell_type": "code",
   "source": [
    "th = updated_angle[0, 1]\n",
    "v = updated_speed[0, 1]\n",
    "v, th"
   ],
   "id": "f30b1134fba35f0",
   "outputs": [
    {
     "data": {
      "text/plain": [
       "(8.791728034435481, 0.05235987755982989)"
      ]
     },
     "execution_count": 119,
     "metadata": {},
     "output_type": "execute_result"
    }
   ],
   "execution_count": 119
  },
  {
   "metadata": {
    "ExecuteTime": {
     "end_time": "2025-01-29T18:27:26.888800Z",
     "start_time": "2025-01-29T18:27:26.883566Z"
    }
   },
   "cell_type": "code",
   "source": [
    "xcomp = np.cos(th)\n",
    "ycomp = -np.sin(th)\n",
    "v*xcomp, v*ycomp"
   ],
   "id": "2bdb2c4ed0e272af",
   "outputs": [
    {
     "data": {
      "text/plain": [
       "(8.779679276717049, -0.46012349371007794)"
      ]
     },
     "execution_count": 124,
     "metadata": {},
     "output_type": "execute_result"
    }
   ],
   "execution_count": 124
  },
  {
   "metadata": {
    "ExecuteTime": {
     "end_time": "2025-01-29T18:29:31.705981Z",
     "start_time": "2025-01-29T18:29:31.700586Z"
    }
   },
   "cell_type": "code",
   "source": "np.cos(updated_angle[:, 1])",
   "id": "fb5110810a3abb56",
   "outputs": [
    {
     "data": {
      "text/plain": [
       "array([ 0.99862953,  0.9981348 ,  0.99802673,  0.99802673,  0.99802673,\n",
       "        0.99802673,  0.99744078,  0.99663739,  0.99357186,  0.97667228,\n",
       "        0.91706007,  0.82708057,  0.70587157,  0.2890318 ,  0.03141076,\n",
       "       -0.02443218, -0.15643447, -0.21303039, -0.38590604, -0.4539905 ,\n",
       "       -0.45554491, -0.42103581, -0.27060045, -0.19765734,  0.12533323,\n",
       "        0.31233492,  0.37784079,  0.7033947 ,  0.94205745,  0.99074784,\n",
       "        0.99912283,  0.99939083,  0.99254615,  0.83676431,  0.10799936,\n",
       "       -0.27563736, -0.6534206 ])"
      ]
     },
     "execution_count": 129,
     "metadata": {},
     "output_type": "execute_result"
    }
   ],
   "execution_count": 129
  },
  {
   "metadata": {
    "ExecuteTime": {
     "end_time": "2025-01-29T18:29:43.289984Z",
     "start_time": "2025-01-29T18:29:43.286137Z"
    }
   },
   "cell_type": "code",
   "source": "updated_angle[:, 1]",
   "id": "f2a27a8757236289",
   "outputs": [
    {
     "data": {
      "text/plain": [
       "array([0.05235988, 0.06108652, 0.06283185, 0.06283185, 0.06283185,\n",
       "       0.06283185, 0.0715585 , 0.08203047, 0.1134464 , 0.21642083,\n",
       "       0.41015237, 0.5969026 , 0.78714349, 1.27758101, 1.5393804 ,\n",
       "       1.59523094, 1.72787596, 1.78547182, 1.96698607, 2.04203522,\n",
       "       2.04378055, 2.00538331, 1.84481302, 1.76976386, 1.44513262,\n",
       "       1.2531464 , 1.18333323, 0.79063415, 0.34208453, 0.13613568,\n",
       "       0.0418879 , 0.03490659, 0.12217305, 0.57944931, 1.46258591,\n",
       "       1.85004901, 2.28289066])"
      ]
     },
     "execution_count": 132,
     "metadata": {},
     "output_type": "execute_result"
    }
   ],
   "execution_count": 132
  },
  {
   "metadata": {},
   "cell_type": "code",
   "outputs": [],
   "execution_count": null,
   "source": "",
   "id": "3c32e0ab8a88ad21"
  }
 ],
 "metadata": {
  "kernelspec": {
   "display_name": "Python 3",
   "language": "python",
   "name": "python3"
  },
  "language_info": {
   "codemirror_mode": {
    "name": "ipython",
    "version": 2
   },
   "file_extension": ".py",
   "mimetype": "text/x-python",
   "name": "python",
   "nbconvert_exporter": "python",
   "pygments_lexer": "ipython2",
   "version": "2.7.6"
  }
 },
 "nbformat": 4,
 "nbformat_minor": 5
}
